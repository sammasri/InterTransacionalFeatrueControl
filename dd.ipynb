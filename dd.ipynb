{
 "cells": [
  {
   "cell_type": "markdown",
   "metadata": {},
   "source": [
    "### Direct Get to Drive"
   ]
  },
  {
   "cell_type": "code",
   "execution_count": null,
   "metadata": {
    "cellView": "form",
    "id": "6mYSH1yDOwvw"
   },
   "outputs": [],
   "source": [
    "#@title { form-width: \"2%\" }\n",
    "#@markdown #### Setup\n",
    "\n",
    "import os, pytz, time, re\n",
    "from bs4 import BeautifulSoup as Soup, element\n",
    "from google.colab import drive\n",
    "from datetime import datetime\n",
    "\n",
    "\n",
    "tz = pytz.timezone('Turkey')\n",
    "os.environ['TZ'] = 'Turkey'\n",
    "nowstr = lambda separete = False: datetime.now(tz).strftime(\"%y-%m-%d-%H-%M-%S\") if separete else str(round(time.time()))\n",
    "file_size_limit = 40000 # 40 KB\n",
    "\n",
    "ddyPtr = re.compile(\"mydaddy[^']+(?=')\")\n",
    "hqpVarsPtr = re.compile('(?<=;)[a-z]{8}(?==)')\n",
    "fileExtPtr = re.compile('\\.([a-zA-Z0-9]+)$')\n",
    "hqpTitlePtn = re.compile(\"(?<=<title>)[\\sa-zA-Z0-9]+(?=\\s-)\")\n",
    "\n",
    "if not os.path.exists(\"/content/drive\"):\n",
    "    drive.mount('/content/drive')\n",
    "\n",
    "def has_size(path, only_check = True):\n",
    "    size = 0\n",
    "    if not os.path.exists(path):\n",
    "        return 0\n",
    "    if os.path.isfile(path):\n",
    "        size = os.path.getsize(path)\n",
    "    else:  \n",
    "        for path, dirs, files in os.walk(path):\n",
    "            for file in files:\n",
    "                filepath = os.path.join(path, file)\n",
    "                size += os.path.getsize(filepath)\n",
    "                if only_check and size >= file_size_limit:\n",
    "                    return True\n",
    "    if size >= file_size_limit:\n",
    "        return size\n",
    "    else:\n",
    "        return 0\n",
    "        \n",
    "def download_file(url, save_dir= \"/content/Downloads\", name= \"\", headers= \"\"):\n",
    "    tempsave = \"/content/done/\" + nowstr() \n",
    "    os.makedirs(tempsave, exist_ok=True)\n",
    "    name = name.strip()\n",
    "    cm = f\"wget {headers}\" if headers else \"wget\"\n",
    "    if os.path.isfile(\"/content/cf\"):\n",
    "        cm += \" --load-cookies /content/cf\"\n",
    "    cm += f' -P \"{tempsave}\"'\n",
    "\n",
    "    if name:\n",
    "        extSch = fileExtPtr.search(url)\n",
    "        ext = extSch.group() if extSch else \"\"\n",
    "        if not name.endswith(ext):\n",
    "            name = name + ext\n",
    "        cm += f' -O \"{tempsave}/{name}\"' \n",
    "\n",
    "    cm += f' \"{url}\"'\n",
    "    print(f\"  {cm}\")\n",
    "    !$cm\n",
    "    if not has_size(tempsave): \n",
    "        print(\"Download failed!\")\n",
    "        return\n",
    "    os.makedirs(save_dir, exist_ok=True)\n",
    "    !mv \"$tempsave\"/* \"$save_dir\"\n",
    "\n",
    "def hqpGetInnerURL(url):\n",
    "    reqOutput = !curl $url\n",
    "    outputStr = \"\".join(reqOutput)\n",
    "    srch = ddyPtr.search(outputStr)\n",
    "    if srch:\n",
    "        titleSH = hqpTitlePtn.search(outputStr)\n",
    "        title = titleSH.group() if titleSH else \"\"\n",
    "        innerURL = f\"https://{srch.group()}\"\n",
    "        return (innerURL, title, outputStr)\n",
    "    else:\n",
    "        print(\"Search is \", type(srch))\n",
    "        return (None, None, outputStr)\n",
    "\n",
    "def hCCDownload(hURL, saveDir= \"/content\", name= \"\"):\n",
    "    print(f\"Looking for cc url in: {hURL}\\n\\t...\\n\")\n",
    "    reqOutput = !curl $hURL\n",
    "    invalid = False\n",
    "    if reqOutput:\n",
    "        if not name:\n",
    "            name = nowstr(True) + \"- 1080p\"\n",
    "        newOutputStr = reqOutput[0]\n",
    "        varRes = hqpVarsPtr.findall(newOutputStr)\n",
    "        if varRes:\n",
    "            valDict = {}\n",
    "            for mtch in varRes:\n",
    "                valPt = f'(?<={mtch}=\")(\\/\\/|\\d)[^\"]+'\n",
    "                valSch = re.search(valPt, newOutputStr)\n",
    "                if not valSch:\n",
    "                    print(f\"Value for {mtch} wasn't found!\")\n",
    "                    invalid = True\n",
    "                    break\n",
    "                valDict[mtch] = valSch.group()\n",
    "            if not invalid:\n",
    "                val1Sch = re.search('(?<=replaceAll\\(\"nrpuv\",)[a-z]{8}', newOutputStr)\n",
    "                val2Sch = re.search('(?<=\\+\"pubs\\/\"\\+)[a-z]{8}', newOutputStr)\n",
    "                if val1Sch and val2Sch:\n",
    "                    val1 = val1Sch.group()\n",
    "                    val2 = val2Sch.group()\n",
    "                    vidUrl = f\"https:{valDict[val1]}pubs/{valDict[val2]}/1080.mp4\"\n",
    "                else:\n",
    "                    invalid = True\n",
    "            if not invalid:\n",
    "                print(f\"Found URL:\\n\\t{vidUrl}\\n\\n\")\n",
    "                download_file(vidUrl, save_dir= saveDir, name= name)\n",
    "            else:\n",
    "                print(valDict, \"\\n\", f\"val1: {val1}, val2: {val2}\")\n"
   ]
  },
  {
   "cell_type": "code",
   "execution_count": null,
   "metadata": {
    "cellView": "form",
    "id": "ZxUTGFyDuBUz"
   },
   "outputs": [],
   "source": [
    "#@title { form-width: \"2%\" }\n",
    "#@markdown\n"
   ]
  },
  {
   "cell_type": "code",
   "execution_count": null,
   "metadata": {
    "cellView": "form",
    "id": "ZxUTGFyDuBUz"
   },
   "outputs": [],
   "source": [
    "#@title { form-width: \"2%\" }\n",
    "#@markdown #### Direct\n",
    "\n",
    "Name = \"\" #@param {type:\"string\"}\n",
    "URL = \"\" #@param {type:\"string\"}\n",
    "Ref = \"\" #@param {type:\"string\"}\n",
    "Save_Dir = \"\" #@param {type:\"string\"}\n",
    "PTC = \"\" #@param {type:\"string\"}\n",
    "\n",
    "cookie = \"\"\"\n",
    "\"\"\"\n",
    "\n",
    "if len(cookie) > 100:\n",
    "    with open(\"cf\", \"w\") as file:\n",
    "        file.write(cookie)\n",
    "elif os.path.isfile(\"/content/cf\"):   \n",
    "    !rm \"/content/cf\"\n",
    "\n",
    "headers = \"\"\n",
    "if PTC:\n",
    "    headers = f'--header=\"accept: text/html,application/xhtml+xml,application/xml;q=0.9,image/avif,image/webp,image/apng,*/*;q=0.8,application/signed-exchange;v=b3;q=0.7\" --header=\"accept-encoding: gzip, deflate, br, zstd\" --header=\"accept-language: fr-FR,fr;q=0.9\" --header=\\'cookie: {PTC}\\' --header=\"dnt: 1\" --header=\"priority: u=0, i\" --header=\"referer: {Ref}\" --header=\\'sec-ch-ua: \"Chromium\";v=\"136\", \"Google Chrome\";v=\"136\", \"Not.A/Brand\";v=\"99\"\\' --header=\"sec-ch-ua-mobile: ?0\" --header=\\'sec-ch-ua-platform: \"Windows\"\\' --header=\"sec-fetch-dest: document\" --header=\"sec-fetch-mode: navigate\" --header=\"sec-fetch-site: same-origin\" --header=\"sec-fetch-user: ?1\" --header=\"upgrade-insecure-requests: 1\" --header=\\'user-agent: Mozilla/5.0 Windows NT 10.0; Win64; x64 AppleWebKit/537.36 KHTML, like Gecko Chrome/136.0.0.0 Safari/537.36\\''\n",
    "\n",
    "if not Name.endswith(\".mp4\") and not Name.endswith(\".mkv\"):\n",
    "    Name += \".mp4\"\n",
    "\n",
    "if URL:\n",
    "    download_file(URL, save_dir= Save_Dir, name= Name, headers= headers)"
   ]
  },
  {
   "cell_type": "code",
   "execution_count": null,
   "metadata": {
    "cellView": "form",
    "id": "ZxUTGFyDuBUz"
   },
   "outputs": [],
   "source": [
    "#@title { form-width: \"2%\" }\n",
    "#@markdown #### Find\n",
    "\n",
    "loc = \"\" #@param {type:\"string\"}\n",
    "srch = \"\" #@param {type:\"string\"}\n",
    "!find \"$loc\" -name \"*$srch*\""
   ]
  },
  {
   "cell_type": "code",
   "execution_count": null,
   "metadata": {
    "cellView": "form",
    "id": "ZxUTGFyDuBUz"
   },
   "outputs": [],
   "source": [
    "#@title { form-width: \"2%\" }\n",
    "#@markdown #### JUST CURL\n",
    "\n",
    "URL = \"\" #@param {type:\"string\"}\n",
    "\n",
    "!curl $URL"
   ]
  },
  {
   "cell_type": "code",
   "execution_count": null,
   "metadata": {
    "cellView": "form",
    "id": "ZxUTGFyDuBUz"
   },
   "outputs": [],
   "source": [
    "#@title { form-width: \"2%\" }\n",
    "#@markdown #### HQP\n",
    "\n",
    "VidURLs = \"\" #@param {type:\"string\"}\n",
    "Save_Dir = \"\" #@param {type:\"string\"}\n",
    "Names = \"\" #@param {type:\"string\"}\n",
    "\n",
    "urls = VidURLs.split(\",,,\")\n",
    "names = Names.split(\",,,\")\n",
    "if len(urls) == len(names):\n",
    "    print(f\"Downloading {len(urls)} links.\")\n",
    "    for i in range(len(urls)):\n",
    "        url = urls[i].strip()\n",
    "        name = names[i].strip().title()\n",
    "        if url and name:\n",
    "            print(f\"\\nDownloading {i+1} of {len(urls)}:\\t{name}\")\n",
    "            hCCDownload(url, saveDir= Save_Dir, name= name)\n",
    "        else:\n",
    "            print(\"URL or Name is empty!\")\n",
    "else:\n",
    "    raise(\"URLs and Names have different length!\")"
   ]
  },
  {
   "cell_type": "code",
   "execution_count": null,
   "metadata": {
    "cellView": "form",
    "id": "ZxUTGFyDuBUz"
   },
   "outputs": [],
   "source": [
    "#@title { form-width: \"2%\" }\n",
    "#@markdown\n"
   ]
  }
 ],
 "metadata": {
  "colab": {
   "collapsed_sections": [],
   "include_colab_link": true,
   "name": "DGtD",
   "provenance": []
  },
  "gpuClass": "standard",
  "kernelspec": {
   "display_name": "Python 3.9.7 64-bit",
   "language": "python",
   "name": "python3"
  },
  "language_info": {
   "codemirror_mode": {
    "name": "ipython",
    "version": 3
   },
   "file_extension": ".py",
   "mimetype": "text/x-python",
   "name": "python",
   "nbconvert_exporter": "python",
   "pygments_lexer": "ipython3",
   "version": "3.12.1"
  }
 },
 "nbformat": 4,
 "nbformat_minor": 2
}
