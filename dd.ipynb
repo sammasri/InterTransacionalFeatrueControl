{
 "cells": [
  {
   "cell_type": "markdown",
   "metadata": {},
   "source": [
    "### Direct Get to Drive"
   ]
  },
  {
   "cell_type": "code",
   "execution_count": null,
   "metadata": {
    "cellView": "form",
    "id": "6mYSH1yDOwvw"
   },
   "outputs": [],
   "source": [
    "#@title { form-width: \"2%\" }\n",
    "#@markdown\n",
    "\n",
    "import os, pytz, time\n",
    "from bs4 import BeautifulSoup as Soup, element\n",
    "from google.colab import drive\n",
    "from datetime import datetime\n",
    "\n",
    "\n",
    "\n",
    "tz = pytz.timezone('Turkey')\n",
    "os.environ['TZ'] = 'Turkey'\n",
    "nowstr = lambda separete = False: datetime.now(tz).strftime(\"%y-%m-%d-%H-%M-%S\") if separete else str(round(time.time()))\n",
    "\n",
    "if not os.path.exists(\"/content/drive\"):\n",
    "    drive.mount('/content/drive')\n"
   ]
  },
  {
   "cell_type": "code",
   "execution_count": null,
   "metadata": {
    "cellView": "form",
    "id": "ZxUTGFyDuBUz"
   },
   "outputs": [],
   "source": [
    "#@title \n",
    "#@markdown\n",
    "\n",
    "Direct_URL = \"\" #@param {type:\"string\"}\n",
    "Save_Dir = \"/content\" #@param {type:\"string\"}\n",
    "tempsave = \"/content/done/\" + nowstr() \n",
    "\n",
    "os.makedirs(Save_Dir, exist_ok=True)\n",
    "os.makedirs(tempsave, exist_ok=True)\n",
    "\n",
    "!wget -P \"$tempsave\" \"$Direct_URL\"\n",
    "!mv \"$tempsave\"/* \"$Save_Dir\""
   ]
  },
  {
   "cell_type": "code",
   "execution_count": null,
   "metadata": {
    "cellView": "form",
    "id": "ZxUTGFyDuBUz"
   },
   "outputs": [],
   "source": [
    "#@title \n",
    "#@markdown CURL\n",
    "\n",
    "URL = \"\" #@param {type:\"string\"}\n",
    "\n",
    "!curl $URL"
   ]
  }
 ],
 "metadata": {
  "language_info": {
   "name": "python"
  }
 },
 "nbformat": 4,
 "nbformat_minor": 2
}
