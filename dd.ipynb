{
 "cells": [
  {
   "cell_type": "markdown",
   "metadata": {},
   "source": [
    "### Direct Get to Drive"
   ]
  },
  {
   "cell_type": "code",
   "execution_count": null,
   "metadata": {
    "cellView": "form",
    "id": "6mYSH1yDOwvw"
   },
   "outputs": [],
   "source": [
    "#@title { form-width: \"2%\" }\n",
    "#@markdown\n",
    "\n",
    "import os, pytz, time, re\n",
    "from bs4 import BeautifulSoup as Soup, element\n",
    "from google.colab import drive\n",
    "from datetime import datetime\n",
    "\n",
    "\n",
    "tz = pytz.timezone('Turkey')\n",
    "os.environ['TZ'] = 'Turkey'\n",
    "nowstr = lambda separete = False: datetime.now(tz).strftime(\"%y-%m-%d-%H-%M-%S\") if separete else str(round(time.time()))\n",
    "\n",
    "ptrDaddy = re.compile(\"mydaddy[^']+(?=')\")\n",
    "ptrVars = re.compile('(?<=;)[a-z]{8}(?==)')\n",
    "ptrExt = re.compile('\\.([a-zA-Z0-9]+)$')\n",
    "\n",
    "if not os.path.exists(\"/content/drive\"):\n",
    "    drive.mount('/content/drive')\n",
    "\n",
    "def download(directurl, save_dir= \"/content/Downloads\", name= \"\"):\n",
    "    tempsave = \"/content/done/\" + nowstr() \n",
    "    name = name.strip()\n",
    "\n",
    "    os.makedirs(save_dir, exist_ok=True)\n",
    "    os.makedirs(tempsave, exist_ok=True)\n",
    "\n",
    "    if name:\n",
    "        extSch = ptrExt.search(directurl)\n",
    "        ext = extSch.group() if extSch else \"\"\n",
    "        filename = f' -O \"{tempsave}/{name + ext}\"' \n",
    "    else:\n",
    "        filename = \"\"\n",
    "    !wget -P \"$tempsave\"$filename \"$directurl\"\n",
    "    !mv \"$tempsave\"/* \"$save_dir\""
   ]
  },
  {
   "cell_type": "code",
   "execution_count": null,
   "metadata": {
    "cellView": "form",
    "id": "ZxUTGFyDuBUz"
   },
   "outputs": [],
   "source": [
    "#@title { form-width: \"2%\" }\n",
    "#@markdown\n",
    "\n",
    "Direct_URL = \"\" #@param {type:\"string\"}\n",
    "Save_Dir = \"\" #@param {type:\"string\"}\n",
    "Name = \"playful busty lesbians\" #@param {type:\"string\"}\n",
    "\n",
    "if Direct_URL:\n",
    "    download(Direct_URL, save_dir= Save_Dir, name= Name)"
   ]
  },
  {
   "cell_type": "code",
   "execution_count": null,
   "metadata": {
    "cellView": "form",
    "id": "ZxUTGFyDuBUz"
   },
   "outputs": [],
   "source": [
    "#@title { form-width: \"2%\" }\n",
    "# #@markdown JUST CURL\n",
    "\n",
    "URL = \"\" #@param {type:\"string\"}\n",
    "\n",
    "!curl $URL"
   ]
  },
  {
   "cell_type": "code",
   "execution_count": null,
   "metadata": {
    "cellView": "form",
    "id": "ZxUTGFyDuBUz"
   },
   "outputs": [],
   "source": [
    "#@title { form-width: \"2%\" }\n",
    "#@markdown HQP\n",
    "\n",
    "MainURL = \"\" #@param {type:\"string\"}\n",
    "VidURL = \"\" #@param {type:\"string\"}\n",
    "Save_Dir = \"\" #@param {type:\"string\"}\n",
    "Name = \"\" #@param {type:\"string\"}\n",
    "\n",
    "VidURL = VidURL.strip()\n",
    "if not VidURL:\n",
    "    output = !curl $MainURL\n",
    "    outputStr = \"\".join(output)\n",
    "    srch = ptrDaddy.search(outputStr)\n",
    "\n",
    "    if srch:\n",
    "        VidURL = f\"https://{srch.group()}\"\n",
    "\n",
    "print(f\"Looking for daddycc url in: {VidURL}\\n\\t...\\n\")\n",
    "if VidURL:\n",
    "    newOutput = !curl $VidURL\n",
    "    invalid = False\n",
    "    if newOutput:\n",
    "        newOutputStr = newOutput[0]\n",
    "        varRes = ptrVars.findall(newOutputStr)\n",
    "        if varRes:\n",
    "            valDict = {}\n",
    "            for mtch in varRes:\n",
    "                valPt = f'(?<={mtch}=\")(\\/\\/|\\d)[^\"]+'\n",
    "                valSch = re.search(valPt, newOutputStr)\n",
    "                if not valSch:\n",
    "                    print(f\"Val for {mtch} wasn't found!\")\n",
    "                    invalid = True\n",
    "                    break\n",
    "                valDict[mtch] = valSch.group()\n",
    "            if not invalid:\n",
    "                val1Sch = re.search('(?<=replaceAll\\(\"nrpuv\",)[a-z]{8}', newOutputStr)\n",
    "                val2Sch = re.search('(?<=\\+\"pubs\\/\"\\+)[a-z]{8}', newOutputStr)\n",
    "                if val1Sch and val2Sch:\n",
    "                    val1 = val1Sch.group()\n",
    "                    val2 = val2Sch.group()\n",
    "                    vidUrl = f\"https:{valDict[val1]}pubs/{valDict[val2]}/1080.mp4\"\n",
    "                else:\n",
    "                    invalid = True\n",
    "            if not invalid:\n",
    "                print(f\"Found URL:\\n\\t{vidUrl}\\n\\n\")\n",
    "                download(vidUrl, save_dir= Save_Dir, name= Name)\n",
    "            else:\n",
    "                print(valDict, \"\\n\", f\"val1: {val1}, val2: {val2}\")\n",
    "    else:\n",
    "        print(\"Search is \", type(srch))\n",
    "\n",
    "        "
   ]
  }
 ],
 "metadata": {
  "language_info": {
   "name": "python"
  }
 },
 "nbformat": 4,
 "nbformat_minor": 2
}
