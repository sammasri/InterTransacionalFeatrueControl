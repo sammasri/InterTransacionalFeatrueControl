{
 "cells": [
  {
   "cell_type": "markdown",
   "metadata": {},
   "source": [
    "### Direct Get to Drive"
   ]
  },
  {
   "cell_type": "code",
   "execution_count": null,
   "metadata": {
    "cellView": "form",
    "id": "6mYSH1yDOwvw"
   },
   "outputs": [],
   "source": [
    "#@title { form-width: \"2%\" }\n",
    "#@markdown #### Setup\n",
    "\n",
    "import os, pytz, time, re\n",
    "from bs4 import BeautifulSoup as Soup, element\n",
    "from google.colab import drive\n",
    "from datetime import datetime\n",
    "\n",
    "\n",
    "tz = pytz.timezone('Turkey')\n",
    "os.environ['TZ'] = 'Turkey'\n",
    "nowstr = lambda separete = False: datetime.now(tz).strftime(\"%y-%m-%d-%H-%M-%S\") if separete else str(round(time.time()))\n",
    "\n",
    "ddyPtr = re.compile(\"mydaddy[^']+(?=')\")\n",
    "hqpVarsPtr = re.compile('(?<=;)[a-z]{8}(?==)')\n",
    "fileExtPtr = re.compile('\\.([a-zA-Z0-9]+)$')\n",
    "hqpTitlePtn = re.compile(\"(?<=<title>)[\\sa-zA-Z0-9]+(?=\\s-)\")\n",
    "\n",
    "if not os.path.exists(\"/content/drive\"):\n",
    "    drive.mount('/content/drive')\n",
    "\n",
    "def download(directurl, save_dir= \"/content/Downloads\", name= \"\"):\n",
    "    tempsave = \"/content/done/\" + nowstr() \n",
    "    name = name.strip()\n",
    "\n",
    "    os.makedirs(save_dir, exist_ok=True)\n",
    "    os.makedirs(tempsave, exist_ok=True)\n",
    "\n",
    "    if name:\n",
    "        extSch = fileExtPtr.search(directurl)\n",
    "        ext = extSch.group() if extSch else \"\"\n",
    "        filename = f' -O \"{tempsave}/{name + ext}\"' \n",
    "    else:\n",
    "        filename = \"\"\n",
    "    !wget -P \"$tempsave\"$filename \"$directurl\"\n",
    "    !mv \"$tempsave\"/* \"$save_dir\"\n",
    "\n",
    "def hqpGetInnerURL(url):\n",
    "    reqOutput = !curl $url\n",
    "    outputStr = \"\".join(reqOutput)\n",
    "    srch = ddyPtr.search(outputStr)\n",
    "    if srch:\n",
    "        titleSH = hqpTitlePtn.search(outputStr)\n",
    "        title = titleSH.group() if titleSH else \"\"\n",
    "        innerURL = f\"https://{srch.group()}\"\n",
    "        return (innerURL, title, outputStr)\n",
    "    else:\n",
    "        print(\"Search is \", type(srch))\n",
    "        return (None, None, outputStr)\n",
    "\n",
    "def hqpDCCDownload(hqpURL, saveDir= \"/content\", name= \"\"):\n",
    "    print(f\"Looking for dcc url in: {hqpURL}\\n\\t...\\n\")\n",
    "    reqOutput = !curl $hqpURL\n",
    "    invalid = False\n",
    "    if reqOutput:\n",
    "        if not name:\n",
    "            name = nowstr(True) + \"- 1080p\"\n",
    "        newOutputStr = reqOutput[0]\n",
    "        varRes = hqpVarsPtr.findall(newOutputStr)\n",
    "        if varRes:\n",
    "            valDict = {}\n",
    "            for mtch in varRes:\n",
    "                valPt = f'(?<={mtch}=\")(\\/\\/|\\d)[^\"]+'\n",
    "                valSch = re.search(valPt, newOutputStr)\n",
    "                if not valSch:\n",
    "                    print(f\"Val for {mtch} wasn't found!\")\n",
    "                    invalid = True\n",
    "                    break\n",
    "                valDict[mtch] = valSch.group()\n",
    "            if not invalid:\n",
    "                val1Sch = re.search('(?<=replaceAll\\(\"nrpuv\",)[a-z]{8}', newOutputStr)\n",
    "                val2Sch = re.search('(?<=\\+\"pubs\\/\"\\+)[a-z]{8}', newOutputStr)\n",
    "                if val1Sch and val2Sch:\n",
    "                    val1 = val1Sch.group()\n",
    "                    val2 = val2Sch.group()\n",
    "                    vidUrl = f\"https:{valDict[val1]}pubs/{valDict[val2]}/1080.mp4\"\n",
    "                else:\n",
    "                    invalid = True\n",
    "            if not invalid:\n",
    "                print(f\"Found URL:\\n\\t{vidUrl}\\n\\n\")\n",
    "                download(vidUrl, save_dir= saveDir, name= name)\n",
    "            else:\n",
    "                print(valDict, \"\\n\", f\"val1: {val1}, val2: {val2}\")\n"
   ]
  },
  {
   "cell_type": "code",
   "execution_count": null,
   "metadata": {
    "cellView": "form",
    "id": "ZxUTGFyDuBUz"
   },
   "outputs": [],
   "source": [
    "#@title { form-width: \"2%\" }\n",
    "#@markdown #### Direct\n",
    "\n",
    "Direct_URL = \"\" #@param {type:\"string\"}\n",
    "Save_Dir = \"\" #@param {type:\"string\"}\n",
    "Name = \"\" #@param {type:\"string\"}\n",
    "\n",
    "if not Name.endswith(\".mp4\") and not Name.endswith(\".mkv\"):\n",
    "    Name += \".mp4\"\n",
    "\n",
    "if Direct_URL:\n",
    "    download(Direct_URL, save_dir= Save_Dir, name= Name)"
   ]
  },
  {
   "cell_type": "code",
   "execution_count": null,
   "metadata": {
    "cellView": "form",
    "id": "ZxUTGFyDuBUz"
   },
   "outputs": [],
   "source": [
    "#@title { form-width: \"2%\" }\n",
    "#@markdown #### Find\n",
    "\n",
    "loc = \"\" #@param {type:\"string\"}\n",
    "srch = \"\" #@param {type:\"string\"}\n",
    "!find \"$loc\" -name \"*$srch*\""
   ]
  },
  {
   "cell_type": "code",
   "execution_count": null,
   "metadata": {
    "cellView": "form",
    "id": "ZxUTGFyDuBUz"
   },
   "outputs": [],
   "source": [
    "#@title { form-width: \"2%\" }\n",
    "#@markdown #### JUST CURL\n",
    "\n",
    "URL = \"\" #@param {type:\"string\"}\n",
    "\n",
    "!curl $URL"
   ]
  },
  {
   "cell_type": "code",
   "execution_count": null,
   "metadata": {
    "cellView": "form",
    "id": "ZxUTGFyDuBUz"
   },
   "outputs": [],
   "source": [
    "#@title { form-width: \"2%\" }\n",
    "#@markdown #### HQP\n",
    "\n",
    "VidURLs = \"\" #@param {type:\"string\"}\n",
    "Save_Dir = \"\" #@param {type:\"string\"}\n",
    "Names = \"\" #@param {type:\"string\"}\n",
    "\n",
    "urls = VidURLs.split(\",,,\")\n",
    "names = Names.split(\",,,\")\n",
    "if len(urls) == len(names):\n",
    "    print(f\"Downloading {len(urls)} links.\\n\")\n",
    "    for i in range(len(urls)):\n",
    "        url = urls[i].strip()\n",
    "        name = names[i].strip().title()\n",
    "        if url and name:\n",
    "            hqpDCCDownload(url, saveDir= Save_Dir, name= name)\n",
    "        else:\n",
    "            print(\"URL or Name is empty!\")\n",
    "else:\n",
    "    raise(\"URLs and Names have different length!\")"
   ]
  },
  {
   "cell_type": "code",
   "execution_count": null,
   "metadata": {
    "cellView": "form",
    "id": "ZxUTGFyDuBUz"
   },
   "outputs": [],
   "source": [
    "#@title { form-width: \"2%\" }\n",
    "#@markdown\n"
   ]
  }
 ],
 "metadata": {
  "colab": {
   "collapsed_sections": [],
   "include_colab_link": true,
   "name": "DGtD",
   "provenance": []
  },
  "gpuClass": "standard",
  "kernelspec": {
   "display_name": "Python 3.9.7 64-bit",
   "language": "python",
   "name": "python3"
  },
  "language_info": {
   "codemirror_mode": {
    "name": "ipython",
    "version": 3
   },
   "file_extension": ".py",
   "mimetype": "text/x-python",
   "name": "python",
   "nbconvert_exporter": "python",
   "pygments_lexer": "ipython3",
   "version": "3.12.1"
  }
 },
 "nbformat": 4,
 "nbformat_minor": 2
}
